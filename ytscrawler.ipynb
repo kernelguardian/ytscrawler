{
 "cells": [
  {
   "cell_type": "code",
   "execution_count": 38,
   "metadata": {},
   "outputs": [],
   "source": [
    "import bs4\n",
    "from urllib.request import urlopen as uReq,Request\n",
    "from bs4 import BeautifulSoup as soup"
   ]
  },
  {
   "cell_type": "code",
   "execution_count": 53,
   "metadata": {},
   "outputs": [],
   "source": [
    "myurl = \"https://yts.am\"\n",
    "req = Request(myurl,headers={'User-Agent':'Mozilla/5.0'})\n",
    "page_html = uReq(req)"
   ]
  },
  {
   "cell_type": "code",
   "execution_count": 54,
   "metadata": {},
   "outputs": [],
   "source": [
    "page_soup = soup(page_html,\"html.parser\")"
   ]
  },
  {
   "cell_type": "code",
   "execution_count": 72,
   "metadata": {},
   "outputs": [],
   "source": [
    "img_wrap = page_soup.find_all(\"div\",{\"class\":\"browse-movie-wrap col-xs-10 col-sm-5\"})"
   ]
  },
  {
   "cell_type": "code",
   "execution_count": 82,
   "metadata": {},
   "outputs": [],
   "source": [
    "img_wrapl = page_soup.find_all(\"a\",{\"class\":\"browse-movie-link\"})"
   ]
  },
  {
   "cell_type": "code",
   "execution_count": 130,
   "metadata": {},
   "outputs": [
    {
     "data": {
      "text/plain": [
       "bs4.element.ResultSet"
      ]
     },
     "execution_count": 130,
     "metadata": {},
     "output_type": "execute_result"
    }
   ],
   "source": [
    "len(img_wrap)\n",
    "type(img_wrap)"
   ]
  },
  {
   "cell_type": "code",
   "execution_count": 101,
   "metadata": {},
   "outputs": [
    {
     "data": {
      "text/plain": [
       "'Aladdin (2019)'"
      ]
     },
     "execution_count": 101,
     "metadata": {},
     "output_type": "execute_result"
    }
   ],
   "source": [
    "x = img_wrapl[0]\n",
    "x['href']\n",
    "x.img['alt'][:-9]"
   ]
  },
  {
   "cell_type": "code",
   "execution_count": 190,
   "metadata": {},
   "outputs": [
    {
     "name": "stdout",
     "output_type": "stream",
     "text": [
      "Aladdin (2019)\n",
      "https://yts.lt/torrent/download/38ED3388D3E1615480059AF37A5D229DB5641D7D \n",
      "\n",
      "Men in Black: International (2019)\n",
      "https://yts.lt/torrent/download/E121AC89DA0DDEB6A6F6C3EDAF1F3005785FA41C \n",
      "\n",
      "The Secret Life of Pets 2 (2019)\n",
      "Link NOT FOUND!!!!! \n",
      "\n",
      "Godzilla: King of the Monsters (2019)\n",
      "https://yts.lt/torrent/download/911707DC898BC8B9BDA071C480205BCF94D9757F \n",
      "\n",
      "The Mean Season (1985)\n",
      "https://yts.lt/torrent/download/8F777365B57B3D7E4C87F9E073B0FF33C6946B5E \n",
      "\n",
      "Death of a Salesman (1985)\n",
      "https://yts.lt/torrent/download/9AA38D241CFDE3235D9CD44205396B61DCAEAD27 \n",
      "\n",
      "Dolphins in the Deep Blue Ocean (2009)\n",
      "https://yts.lt/torrent/download/C12FA6CB422FD385D280CDF9475455D5E12ED109 \n",
      "\n",
      "King Kong (1933)\n",
      "https://yts.lt/torrent/download/1A81B5FF15E4EDA47DA11F522C8157F4EB18EA25 \n",
      "\n",
      "The Angry Silence (1960)\n",
      "https://yts.lt/torrent/download/E56D3940AFFDCD23ED98312F7902C8B141F0EEAD \n",
      "\n",
      "The Apple (1980)\n",
      "https://yts.lt/torrent/download/BAF54043BE3588B5876146331E1B5A951A1AA20D \n",
      "\n",
      "Sylvio (2017)\n",
      "https://yts.lt/torrent/download/15184169E07096F7751004BC931A052EB7A9B3B8 \n",
      "\n",
      "Booksmart (2019)\n",
      "https://yts.lt/torrent/download/20AA16E20E973E9514C234CC34F0A692317558E1 \n",
      "\n",
      "Que\n",
      "Fifty Dead Men Walki\n",
      "The Gunfight\n",
      "Uninvit\n"
     ]
    }
   ],
   "source": [
    "for x in img_wrapl:\n",
    "    #print(x['href'])\n",
    "    print(x.img['alt'][:-9])\n",
    "    try:\n",
    "        download(x['href'])\n",
    "    except:\n",
    "        print(\"Link NOT FOUND!!!!!\",\"\\n\")\n",
    "    "
   ]
  },
  {
   "cell_type": "code",
   "execution_count": 188,
   "metadata": {},
   "outputs": [],
   "source": [
    "def download(url):\n",
    "    req_ = Request(url,headers = {\"User-Agent\":\"Mozilla/5.0\"})\n",
    "    pagehtml = uReq(req_)\n",
    "    pagesoup = soup(pagehtml,\"html.parser\")\n",
    "    p = pagesoup.find_all(\"p\",{\"class\":\"hidden-md hidden-lg\"})\n",
    "    for i in p:\n",
    "        print(i.a['href'],\"\\n\")"
   ]
  },
  {
   "cell_type": "code",
   "execution_count": 171,
   "metadata": {},
   "outputs": [
    {
     "name": "stdout",
     "output_type": "stream",
     "text": [
      "https://yts.lt/torrent/download/38ED3388D3E1615480059AF37A5D229DB5641D7D \t Download Aladdin 720p.BluRay Torrent\n"
     ]
    }
   ],
   "source": [
    "for i in p:\n",
    "    print(i.a['href'], \"\\t\" , i.a['title'])"
   ]
  },
  {
   "cell_type": "code",
   "execution_count": 170,
   "metadata": {},
   "outputs": [
    {
     "data": {
      "text/plain": [
       "[<p class=\"hidden-md hidden-lg\">\n",
       " <a href=\"https://yts.lt/torrent/download/38ED3388D3E1615480059AF37A5D229DB5641D7D\" rel=\"nofollow\" title=\"Download Aladdin 720p.BluRay Torrent\"><span class=\"icon-in\"></span>720p.BluRay</a>\n",
       " <a href=\"https://yts.lt/torrent/download/E1AF5F59F021775254627EC1D9A861695DC20B0E\" rel=\"nofollow\" title=\"Download Aladdin 1080p.BluRay Torrent\"><span class=\"icon-in\"></span>1080p.BluRay</a>\n",
       " <a href=\"https://yts.lt/torrent/download/4A6EEC6D14B26F02170A9F701E729BBB6665C8EE\" rel=\"nofollow\" title=\"Download Aladdin 720p.WEB Torrent\"><span class=\"icon-in\"></span>720p.WEB</a>\n",
       " <a href=\"https://yts.lt/torrent/download/AE57953D3772C804BE36B45FC57198A913014AA1\" rel=\"nofollow\" title=\"Download Aladdin 1080p.WEB Torrent\"><span class=\"icon-in\"></span>1080p.WEB</a>\n",
       " </p>]"
      ]
     },
     "execution_count": 170,
     "metadata": {},
     "output_type": "execute_result"
    }
   ],
   "source": [
    "p"
   ]
  },
  {
   "cell_type": "code",
   "execution_count": null,
   "metadata": {},
   "outputs": [],
   "source": []
  },
  {
   "cell_type": "code",
   "execution_count": null,
   "metadata": {},
   "outputs": [],
   "source": []
  },
  {
   "cell_type": "code",
   "execution_count": null,
   "metadata": {},
   "outputs": [],
   "source": []
  }
 ],
 "metadata": {
  "kernelspec": {
   "display_name": "Python 3",
   "language": "python",
   "name": "python3"
  },
  "language_info": {
   "codemirror_mode": {
    "name": "ipython",
    "version": 3
   },
   "file_extension": ".py",
   "mimetype": "text/x-python",
   "name": "python",
   "nbconvert_exporter": "python",
   "pygments_lexer": "ipython3",
   "version": "3.7.3"
  }
 },
 "nbformat": 4,
 "nbformat_minor": 2
}
