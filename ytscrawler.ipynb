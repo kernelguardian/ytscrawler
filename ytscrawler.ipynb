{
 "cells": [
  {
   "cell_type": "code",
   "execution_count": 23,
   "metadata": {},
   "outputs": [
    {
     "name": "stdout",
     "output_type": "stream",
     "text": [
      "Collecting micropython-xml.dom.minidom\n",
      "  Downloading https://files.pythonhosted.org/packages/4f/03/8adc869e40b804d4b8570a083c89ca65348c8322f0c4c51e8299e8f069bb/micropython-xml.dom.minidom-0.0.0.tar.gz\n"
     ]
    },
    {
     "name": "stderr",
     "output_type": "stream",
     "text": [
      "    ERROR: Complete output from command python setup.py egg_info:\n",
      "    ERROR: Traceback (most recent call last):\n",
      "      File \"<string>\", line 1, in <module>\n",
      "      File \"c:\\users\\asish\\appdata\\local\\programs\\python\\python37\\lib\\tokenize.py\", line 447, in open\n",
      "        buffer = _builtin_open(filename, 'rb')\n",
      "    FileNotFoundError: [Errno 2] No such file or directory: 'C:\\\\Users\\\\Asish\\\\AppData\\\\Local\\\\Temp\\\\pip-install-g5nq2mau\\\\micropython-xml.dom.minidom\\\\setup.py'\n",
      "    ----------------------------------------\n",
      "ERROR: Command \"python setup.py egg_info\" failed with error code 1 in C:\\Users\\Asish\\AppData\\Local\\Temp\\pip-install-g5nq2mau\\micropython-xml.dom.minidom\\\n",
      "WARNING: You are using pip version 19.1.1, however version 19.2.3 is available.\n",
      "You should consider upgrading via the 'python -m pip install --upgrade pip' command.\n"
     ]
    }
   ],
   "source": [
    "#INSTALL THE FOLLOWING PACKAGES BEFORE RUNNING SCRIPT\n",
    "# !pip install "
   ]
  },
  {
   "cell_type": "code",
   "execution_count": 3,
   "metadata": {},
   "outputs": [],
   "source": [
    "#USE TUNNEL BEAR\n",
    "import bs4\n",
    "from urllib.request import urlopen as uReq,Request\n",
    "from bs4 import BeautifulSoup as soup"
   ]
  },
  {
   "cell_type": "code",
   "execution_count": 54,
   "metadata": {},
   "outputs": [],
   "source": [
    "myurl = \"https://yts.lt/browse-movies\"#\"https://yts.am\"\n",
    "req = Request(myurl,headers={'User-Agent':'Mozilla/5.0'})\n",
    "page_html = uReq(req)"
   ]
  },
  {
   "cell_type": "code",
   "execution_count": 55,
   "metadata": {},
   "outputs": [],
   "source": [
    "page_soup = soup(page_html,\"html.parser\")"
   ]
  },
  {
   "cell_type": "code",
   "execution_count": 18,
   "metadata": {},
   "outputs": [],
   "source": [
    "#img_wrap = page_soup.find_all(\"div\",{\"class\":\"browse-movie-wrap col-xs-10 col-sm-5\"})"
   ]
  },
  {
   "cell_type": "code",
   "execution_count": 56,
   "metadata": {},
   "outputs": [],
   "source": [
    "img_wrapl = page_soup.find_all(\"a\",{\"class\":\"browse-movie-link\"})"
   ]
  },
  {
   "cell_type": "code",
   "execution_count": 57,
   "metadata": {},
   "outputs": [
    {
     "name": "stdout",
     "output_type": "stream",
     "text": [
      "12\n"
     ]
    },
    {
     "data": {
      "text/plain": [
       "bs4.element.ResultSet"
      ]
     },
     "execution_count": 57,
     "metadata": {},
     "output_type": "execute_result"
    }
   ],
   "source": [
    "print(len(img_wrap))\n",
    "type(img_wrap)"
   ]
  },
  {
   "cell_type": "code",
   "execution_count": 12,
   "metadata": {},
   "outputs": [],
   "source": [
    "# x = img_wrap[0]\n",
    "# x['href']\n",
    "# x.img['alt'][:-9]"
   ]
  },
  {
   "cell_type": "code",
   "execution_count": 58,
   "metadata": {},
   "outputs": [],
   "source": [
    "import os\n",
    "import xml.etree.ElementTree as et"
   ]
  },
  {
   "cell_type": "code",
   "execution_count": 59,
   "metadata": {},
   "outputs": [],
   "source": [
    "base_path = os.path.dirname(os.path.realpath('__file__'))\n",
    "# print(base_path)\n",
    "xml_file = os.path.join(base_path,\"data\\\\links.xml\")\n",
    "#print(xml_file)\n",
    "\n",
    "tree = et.parse(xml_file)\n",
    "root = tree.getroot()\n",
    "\n",
    "# for child in root:\n",
    "#     print(child.tag,child.attrib)\n",
    "\n",
    "# for child in root:\n",
    "#     for element in child:\n",
    "#         print(element.tag,\":\",element.text)\n",
    "    \n",
    "new_entry = et.SubElement(root,\"link\",attrib={\"id\":\"6\"})\n",
    "new_entry_name = et.SubElement(new_entry,\"name\")\n",
    "new_entry_magnet = et.SubElement(new_entry,\"magnet\")\n",
    "\n",
    "new_entry_name.text = name\n",
    "new_entry_magnet.text = link\n",
    "\n",
    "tree.write(xml_file)"
   ]
  },
  {
   "cell_type": "code",
   "execution_count": 60,
   "metadata": {},
   "outputs": [],
   "source": [
    "def write_xml(name,link):\n",
    "    base_path = os.path.dirname(os.path.realpath('__file__'))\n",
    "    # print(base_path)\n",
    "    xml_file = os.path.join(base_path,\"data\\\\links.xml\")\n",
    "    #print(xml_file)\n",
    "\n",
    "    tree = et.parse(xml_file)\n",
    "    root = tree.getroot()\n",
    "    new_entry = et.SubElement(root,\"link\",attrib={\"id\":\"6\"})\n",
    "    new_entry_name = et.SubElement(new_entry,\"name\")\n",
    "    new_entry_magnet = et.SubElement(new_entry,\"magnet\")\n",
    "\n",
    "    new_entry_name.text = name\n",
    "    new_entry_magnet.text = link\n",
    "\n",
    "    tree.write(xml_file)\n",
    "    "
   ]
  },
  {
   "cell_type": "code",
   "execution_count": 61,
   "metadata": {},
   "outputs": [
    {
     "name": "stdout",
     "output_type": "stream",
     "text": [
      "John Wick: Chapter 3 - Parabellum (2019)\n",
      "https://yts.lt/torrent/download/EC185F258A41604DCC6D288DE58E6CEE874560C4 \n",
      "\n",
      "In Fabric (2018)\n",
      "https://yts.lt/torrent/download/4A4D64D93DE4F0EAA7CA5BD97E5A17A0E82C8B4F \n",
      "\n",
      "Doll Cemetery (2019)\n",
      "https://yts.lt/torrent/download/60E3C06ED4D3C9AD64B716F4BF8CD894249890C6 \n",
      "\n",
      "Oasis (2002)\n",
      "https://yts.lt/torrent/download/EAC7F3F190754FA33188C03EDE3B56FD420F2ED2 \n",
      "\n",
      "Fat Man and Little Boy (1989)\n",
      "https://yts.lt/torrent/download/E9D251711F859A73CFA54395E12BD482C03CA3DB \n",
      "\n",
      "The Mangler (1995)\n",
      "https://yts.lt/torrent/download/C5029371892DF2E9FD7E26583767D7774FD10A77 \n",
      "\n",
      "Woodstock or Bust (2019)\n",
      "https://yts.lt/torrent/download/494D0DDB917FE3E5EC63DA9B5D6B3882868FD345 \n",
      "\n",
      "Uninvited (1988)\n",
      "https://yts.lt/torrent/download/C54E752C76592DA25479C6776CB1BBF87349B486 \n",
      "\n",
      "The Gunfighter (1950)\n",
      "https://yts.lt/torrent/download/769EFDD4B0F69E46DC1E961554B1BA880ECE6563 \n",
      "\n",
      "Fifty Dead Men Walking (2008)\n",
      "https://yts.lt/torrent/download/8D62F62CAA08D092C3F4C11FACED5D7E00B10D9A \n",
      "\n",
      "Queen (2013)\n",
      "https://yts.lt/torrent/download/7A646A35AFD2E6F7FD0066DBDC3C58AE348ECCBB \n",
      "\n",
      "The Mean Season (1985)\n",
      "https://yts.lt/torrent/download/8F777365B57B3D7E4C87F9E073B0FF33C6946B5E \n",
      "\n",
      "Death of a Salesman (1985)\n",
      "https://yts.lt/torrent/download/9AA38D241CFDE3235D9CD44205396B61DCAEAD27 \n",
      "\n",
      "Dolphins in the Deep Blue Ocean (2009)\n",
      "https://yts.lt/torrent/download/C12FA6CB422FD385D280CDF9475455D5E12ED109 \n",
      "\n",
      "King Kong (1933)\n",
      "https://yts.lt/torrent/download/1A81B5FF15E4EDA47DA11F522C8157F4EB18EA25 \n",
      "\n",
      "The Angry Silence (1960)\n",
      "https://yts.lt/torrent/download/E56D3940AFFDCD23ED98312F7902C8B141F0EEAD \n",
      "\n",
      "The Apple (1980)\n",
      "https://yts.lt/torrent/download/BAF54043BE3588B5876146331E1B5A951A1AA20D \n",
      "\n",
      "Sylvio (2017)\n",
      "https://yts.lt/torrent/download/15184169E07096F7751004BC931A052EB7A9B3B8 \n",
      "\n",
      "Booksmart (2019)\n",
      "https://yts.lt/torrent/download/20AA16E20E973E9514C234CC34F0A692317558E1 \n",
      "\n",
      "Jacob's Ladder (2019)\n",
      "Link NOT FOUND!!!!! \n",
      "\n"
     ]
    }
   ],
   "source": [
    "for x in img_wrapl:\n",
    "    #print(x['href'])\n",
    "    name = x.img['alt'][:-9]\n",
    "    print(name)\n",
    "    try:\n",
    "        link = download(x['href'])\n",
    "        write_xml(name,link)\n",
    "    except:\n",
    "        print(\"Link NOT FOUND!!!!!\",\"\\n\")"
   ]
  },
  {
   "cell_type": "code",
   "execution_count": 26,
   "metadata": {},
   "outputs": [],
   "source": [
    "def download(url):\n",
    "    req_ = Request(url,headers = {\"User-Agent\":\"Mozilla/5.0\"})\n",
    "    pagehtml = uReq(req_)\n",
    "    pagesoup = soup(pagehtml,\"html.parser\")\n",
    "    p = pagesoup.find_all(\"p\",{\"class\":\"hidden-md hidden-lg\"})\n",
    "    for i in p:\n",
    "        print(i.a['href'],\"\\n\")\n",
    "        k = i.a['href']\n",
    "    return k"
   ]
  },
  {
   "cell_type": "code",
   "execution_count": 21,
   "metadata": {},
   "outputs": [],
   "source": [
    "# for i in p:\n",
    "#     print(i.a['href'], \"\\t\" , i.a['title'])"
   ]
  }
 ],
 "metadata": {
  "kernelspec": {
   "display_name": "Python 3",
   "language": "python",
   "name": "python3"
  },
  "language_info": {
   "codemirror_mode": {
    "name": "ipython",
    "version": 3
   },
   "file_extension": ".py",
   "mimetype": "text/x-python",
   "name": "python",
   "nbconvert_exporter": "python",
   "pygments_lexer": "ipython3",
   "version": "3.7.3"
  }
 },
 "nbformat": 4,
 "nbformat_minor": 2
}
