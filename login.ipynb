{
 "cells": [
  {
   "cell_type": "code",
   "execution_count": 1,
   "metadata": {},
   "outputs": [],
   "source": [
    "KTU_ID = 'CML16IT004'\n",
    "PASS = \"Asishbinu98@\""
   ]
  },
  {
   "cell_type": "code",
   "execution_count": 2,
   "metadata": {},
   "outputs": [],
   "source": [
    "import bs4 \n",
    "from urllib.request import urlopen,Request\n",
    "from bs4 import BeautifulSoup as soup\n",
    "from requests import Session"
   ]
  },
  {
   "cell_type": "code",
   "execution_count": 3,
   "metadata": {},
   "outputs": [],
   "source": [
    "url = \"https://app.ktu.edu.in/login.jsp\"\n",
    "req = Request(url,headers={\"User-Agent\":\"Mozilla/5.0\"})\n",
    "page_html = urlopen(req)"
   ]
  },
  {
   "cell_type": "code",
   "execution_count": 22,
   "metadata": {},
   "outputs": [
    {
     "name": "stdout",
     "output_type": "stream",
     "text": [
      "<class 'bytes'>\n"
     ]
    }
   ],
   "source": [
    "with Session() as s:\n",
    "    site = s.get(url)\n",
    "    #print(site.content,\"\\n\\n\")\n",
    "    bs_content = soup(site.content, \"html.parser\")\n",
    "    token = bs_content.find(\"input\", {\"name\":\"CSRF_TOKEN\"})[\"value\"]\n",
    "    #print(token,\"\\n\\n\")\n",
    "    login_data = {\"username\":KTU_ID,\"password\":PASS, \"CSRF_TOKEN\":token}\n",
    "    s.post(url,login_data)\n",
    "    home_page = s.get(\"https://app.ktu.edu.in/eu/stu/studentBasicProfile.htm\")\n",
    "    print(type(home_page.content))\n",
    "    rslt = soup(home_page.content,\"html.parser\")"
   ]
  },
  {
   "cell_type": "code",
   "execution_count": 25,
   "metadata": {},
   "outputs": [],
   "source": [
    "s1 = rslt.find_all(\"table\",{\"class\":\"table table-bordered table-striped\"})"
   ]
  },
  {
   "cell_type": "code",
   "execution_count": 30,
   "metadata": {},
   "outputs": [],
   "source": [
    "for m in s1:\n",
    "    #print(x['href'])\n",
    "    print(type(m))"
   ]
  },
  {
   "cell_type": "code",
   "execution_count": null,
   "metadata": {},
   "outputs": [],
   "source": []
  },
  {
   "cell_type": "code",
   "execution_count": null,
   "metadata": {},
   "outputs": [],
   "source": []
  },
  {
   "cell_type": "code",
   "execution_count": null,
   "metadata": {},
   "outputs": [],
   "source": []
  }
 ],
 "metadata": {
  "kernelspec": {
   "display_name": "Python 3",
   "language": "python",
   "name": "python3"
  },
  "language_info": {
   "codemirror_mode": {
    "name": "ipython",
    "version": 3
   },
   "file_extension": ".py",
   "mimetype": "text/x-python",
   "name": "python",
   "nbconvert_exporter": "python",
   "pygments_lexer": "ipython3",
   "version": "3.7.3"
  }
 },
 "nbformat": 4,
 "nbformat_minor": 2
}
