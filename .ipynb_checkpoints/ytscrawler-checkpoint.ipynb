{
 "cells": [
  {
   "cell_type": "code",
   "execution_count": 23,
   "metadata": {},
   "outputs": [
    {
     "name": "stdout",
     "output_type": "stream",
     "text": [
      "Collecting micropython-xml.dom.minidom\n",
      "  Downloading https://files.pythonhosted.org/packages/4f/03/8adc869e40b804d4b8570a083c89ca65348c8322f0c4c51e8299e8f069bb/micropython-xml.dom.minidom-0.0.0.tar.gz\n"
     ]
    },
    {
     "name": "stderr",
     "output_type": "stream",
     "text": [
      "    ERROR: Complete output from command python setup.py egg_info:\n",
      "    ERROR: Traceback (most recent call last):\n",
      "      File \"<string>\", line 1, in <module>\n",
      "      File \"c:\\users\\asish\\appdata\\local\\programs\\python\\python37\\lib\\tokenize.py\", line 447, in open\n",
      "        buffer = _builtin_open(filename, 'rb')\n",
      "    FileNotFoundError: [Errno 2] No such file or directory: 'C:\\\\Users\\\\Asish\\\\AppData\\\\Local\\\\Temp\\\\pip-install-g5nq2mau\\\\micropython-xml.dom.minidom\\\\setup.py'\n",
      "    ----------------------------------------\n",
      "ERROR: Command \"python setup.py egg_info\" failed with error code 1 in C:\\Users\\Asish\\AppData\\Local\\Temp\\pip-install-g5nq2mau\\micropython-xml.dom.minidom\\\n",
      "WARNING: You are using pip version 19.1.1, however version 19.2.3 is available.\n",
      "You should consider upgrading via the 'python -m pip install --upgrade pip' command.\n"
     ]
    }
   ],
   "source": [
    "#INSTALL THE FOLLOWING PACKAGES BEFORE RUNNING SCRIPT\n",
    "# !pip install "
   ]
  },
  {
   "cell_type": "code",
   "execution_count": 3,
   "metadata": {},
   "outputs": [],
   "source": [
    "#USE TUNNEL BEAR\n",
    "import bs4\n",
    "from urllib.request import urlopen as uReq,Request\n",
    "from bs4 import BeautifulSoup as soup"
   ]
  },
  {
   "cell_type": "code",
   "execution_count": 4,
   "metadata": {},
   "outputs": [],
   "source": [
    "myurl = \"https://yts.am\"\n",
    "req = Request(myurl,headers={'User-Agent':'Mozilla/5.0'})\n",
    "page_html = uReq(req)"
   ]
  },
  {
   "cell_type": "code",
   "execution_count": 5,
   "metadata": {},
   "outputs": [],
   "source": [
    "page_soup = soup(page_html,\"html.parser\")"
   ]
  },
  {
   "cell_type": "code",
   "execution_count": 18,
   "metadata": {},
   "outputs": [],
   "source": [
    "#img_wrap = page_soup.find_all(\"div\",{\"class\":\"browse-movie-wrap col-xs-10 col-sm-5\"})"
   ]
  },
  {
   "cell_type": "code",
   "execution_count": 17,
   "metadata": {},
   "outputs": [],
   "source": [
    "img_wrapl = page_soup.find_all(\"a\",{\"class\":\"browse-movie-link\"})"
   ]
  },
  {
   "cell_type": "code",
   "execution_count": 8,
   "metadata": {},
   "outputs": [
    {
     "name": "stdout",
     "output_type": "stream",
     "text": [
      "12\n"
     ]
    },
    {
     "data": {
      "text/plain": [
       "bs4.element.ResultSet"
      ]
     },
     "execution_count": 8,
     "metadata": {},
     "output_type": "execute_result"
    }
   ],
   "source": [
    "print(len(img_wrap))\n",
    "type(img_wrap)"
   ]
  },
  {
   "cell_type": "code",
   "execution_count": 12,
   "metadata": {},
   "outputs": [],
   "source": [
    "# x = img_wrap[0]\n",
    "# x['href']\n",
    "# x.img['alt'][:-9]"
   ]
  },
  {
   "cell_type": "code",
   "execution_count": 29,
   "metadata": {},
   "outputs": [],
   "source": [
    "import os\n",
    "import xml.etree.ElementTree as et"
   ]
  },
  {
   "cell_type": "code",
   "execution_count": 37,
   "metadata": {},
   "outputs": [
    {
     "name": "stdout",
     "output_type": "stream",
     "text": [
      "D:\\proj\\ytscrwaler\\data\\links.xml\n"
     ]
    }
   ],
   "source": [
    "base_path = os.path.dirname(os.path.realpath('__file__'))\n",
    "# print(base_path)\n",
    "xml_file = os.path.join(base_path,\"data\\\\links.xml\")\n",
    "#print(xml_file)"
   ]
  },
  {
   "cell_type": "code",
   "execution_count": 28,
   "metadata": {},
   "outputs": [
    {
     "name": "stdout",
     "output_type": "stream",
     "text": [
      "John Wick: Chapter 3 - Parabellum (2019)\n",
      "https://yts.lt/torrent/download/EC185F258A41604DCC6D288DE58E6CEE874560C4 \n",
      "\n",
      "Aladdin (2019)\n",
      "https://yts.lt/torrent/download/38ED3388D3E1615480059AF37A5D229DB5641D7D \n",
      "\n",
      "Men in Black: International (2019)\n",
      "https://yts.lt/torrent/download/E121AC89DA0DDEB6A6F6C3EDAF1F3005785FA41C \n",
      "\n",
      "The Secret Life of Pets 2 (2019)\n",
      "Link NOT FOUND!!!!! \n",
      "\n",
      "In Fabric (2018)\n",
      "https://yts.lt/torrent/download/4A4D64D93DE4F0EAA7CA5BD97E5A17A0E82C8B4F \n",
      "\n",
      "Doll Cemetery (2019)\n",
      "https://yts.lt/torrent/download/60E3C06ED4D3C9AD64B716F4BF8CD894249890C6 \n",
      "\n",
      "Oasis (2002)\n",
      "https://yts.lt/torrent/download/EAC7F3F190754FA33188C03EDE3B56FD420F2ED2 \n",
      "\n",
      "Fat Man and Little Boy (1989)\n",
      "https://yts.lt/torrent/download/E9D251711F859A73CFA54395E12BD482C03CA3DB \n",
      "\n",
      "The Mangler (1995)\n",
      "https://yts.lt/torrent/download/C5029371892DF2E9FD7E26583767D7774FD10A77 \n",
      "\n",
      "Woodstock or Bust (2019)\n",
      "https://yts.lt/torrent/download/494D0DDB917FE3E5EC63DA9B5D6B3882868FD345 \n",
      "\n",
      "Uninvited (1988)\n",
      "https://yts.lt/torrent/download/C54E752C76592DA25479C6776CB1BBF87349B486 \n",
      "\n",
      "The Gunfighter (1950)\n",
      "https://yts.lt/torrent/download/769EFDD4B0F69E46DC1E961554B1BA880ECE6563 \n",
      "\n"
     ]
    }
   ],
   "source": [
    "for x in img_wrapl:\n",
    "    #print(x['href'])\n",
    "    print(x.img['alt'][:-9])\n",
    "    try:\n",
    "        link = download(x['href'])\n",
    "    except:\n",
    "        print(\"Link NOT FOUND!!!!!\",\"\\n\")"
   ]
  },
  {
   "cell_type": "code",
   "execution_count": 26,
   "metadata": {},
   "outputs": [],
   "source": [
    "def download(url):\n",
    "    req_ = Request(url,headers = {\"User-Agent\":\"Mozilla/5.0\"})\n",
    "    pagehtml = uReq(req_)\n",
    "    pagesoup = soup(pagehtml,\"html.parser\")\n",
    "    p = pagesoup.find_all(\"p\",{\"class\":\"hidden-md hidden-lg\"})\n",
    "    for i in p:\n",
    "        print(i.a['href'],\"\\n\")\n",
    "        k = i.a['href']\n",
    "    return k"
   ]
  },
  {
   "cell_type": "code",
   "execution_count": 21,
   "metadata": {},
   "outputs": [],
   "source": [
    "# for i in p:\n",
    "#     print(i.a['href'], \"\\t\" , i.a['title'])"
   ]
  }
 ],
 "metadata": {
  "kernelspec": {
   "display_name": "Python 3",
   "language": "python",
   "name": "python3"
  },
  "language_info": {
   "codemirror_mode": {
    "name": "ipython",
    "version": 3
   },
   "file_extension": ".py",
   "mimetype": "text/x-python",
   "name": "python",
   "nbconvert_exporter": "python",
   "pygments_lexer": "ipython3",
   "version": "3.7.3"
  }
 },
 "nbformat": 4,
 "nbformat_minor": 2
}
